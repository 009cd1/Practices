{
 "cells": [
  {
   "cell_type": "markdown",
   "metadata": {},
   "source": [
    "# 単一のニュース記事の取得"
   ]
  },
  {
   "cell_type": "code",
   "execution_count": 1,
   "metadata": {},
   "outputs": [],
   "source": [
    "from newspaper import Article"
   ]
  },
  {
   "cell_type": "code",
   "execution_count": 2,
   "metadata": {},
   "outputs": [],
   "source": [
    "# 変数URLを定義して、サイトのURLを格納\n",
    "URL = 'https://www.reuters.com/article/us-hongkong-security-canada-insight/canada-calling-hong-kong-residents-shift-billions-abroad-after-clampdown-idUSKBN2BH3KR'"
   ]
  },
  {
   "cell_type": "code",
   "execution_count": 3,
   "metadata": {},
   "outputs": [],
   "source": [
    "# コンストラクターArticleにURLを渡して、帰ってきたオブジェクトを変数articleに格納する\n",
    "article = Article(URL)"
   ]
  },
  {
   "cell_type": "code",
   "execution_count": 4,
   "metadata": {},
   "outputs": [],
   "source": [
    "# URLから記事を取得: article.download()\n",
    "article.download()"
   ]
  },
  {
   "cell_type": "code",
   "execution_count": 5,
   "metadata": {},
   "outputs": [],
   "source": [
    "# ダウンロードした記事の解析: article.parse()\n",
    "article.parse()"
   ]
  },
  {
   "cell_type": "code",
   "execution_count": 6,
   "metadata": {},
   "outputs": [
    {
     "data": {
      "text/plain": [
       "datetime.datetime(2021, 3, 25, 23, 10, 38, tzinfo=tzutc())"
      ]
     },
     "execution_count": 6,
     "metadata": {},
     "output_type": "execute_result"
    }
   ],
   "source": [
    "# 記事の発行された日付の表示: article.publish_date\n",
    "article.publish_date"
   ]
  },
  {
   "cell_type": "code",
   "execution_count": 7,
   "metadata": {},
   "outputs": [
    {
     "data": {
      "text/plain": [
       "['Sarah Wu', 'Nichola Saminather']"
      ]
     },
     "execution_count": 7,
     "metadata": {},
     "output_type": "execute_result"
    }
   ],
   "source": [
    "# 記事の著者の表示: article.authors\n",
    "article.authors"
   ]
  },
  {
   "cell_type": "code",
   "execution_count": 8,
   "metadata": {},
   "outputs": [
    {
     "data": {
      "text/plain": [
       "'TORONTO (Reuters) - As China imposed a sweeping national security law in Hong Kong last year after massive protests, residents of the city moved tens of billions of dollars across the globe to Canada, where thousands are hoping to forge a new future.\\n\\nFILE PHOTO: A man walks past New Hong Kong Supermarket in Richmond, British Columbia, Canada January 26, 2021. Picture taken January 26, 2021. REUTERS/Jennifer Gauthier\\n\\nCapital flows out of Hong Kong banks reaching Canada rose to their highest levels on record last year, with about C$43.6 billion ($34.8 billion) in electronic funds transfers (EFT) recorded by FINTRAC, Canada’s anti-money laundering agency, which receives reports on transfers above C$10,000.\\n\\nThe previously unreported outflows, the highest since 2012 when the earliest FINTRAC records are available, are the first evidence of a significant flight of capital overseas from the Asian financial hub following the security turmoil.\\n\\nOne Canadian lender, Equitable Bank, also told Reuters it had seen a surge in deposits from Hong Kong just after the new law was introduced in June 2020. Critics say the law was aimed at stifling dissent, an allegation denied by Beijing which says it was needed to strengthen national security.\\n\\nThe Hong Kong government has said the city has not seen significant capital outflows since the anti-government unrest first began in 2019, when a now-shelved bill that would have allowed extraditions to mainland China was proposed.\\n\\nThe record transfers, up 46% from 2016 and up 10% from 2019, came in a year when Hong Kong police froze the accounts of several people linked to pro-democracy protests, triggering concern among some residents about asset safety.\\n\\nThe outflows represent only 1.9% of Hong Kong’s total bank deposits in 2020. But, at the same time, the FINTRAC data captures only a fraction of total legal inflows into the Canadian economy because many transactions are not included, such as transfers via cryptocurrencies, between financial institutions, or under C$10,000, said spokesman Darren Gibb.\\n\\nThe agency has seen a steady increase in overall EFT reporting, consistent with global trends, he said.\\n\\nAnd it’s not just money.\\n\\nReuters interviewed a dozen immigration consultants, lawyers, and real estate brokers who provided a window into how many Hong Kong residents are eager to start a new life in Canada and bring with them millions of dollars, once pandemic-induced travel restrictions end.\\n\\nCanadian visa applications from Hong Kong, excluding visitors’ visas, rose 10% to 8,121 in 2020, indicating further capital flows from the city are likely. Britain and Australia are expected to be other favored destinations for Hong Kong residents.\\n\\nAndrew Lo, chief executive of immigration consultancy Anlex in Hong Kong, is looking to expand into wealth management services in Canada, which he believes will be “a booming market for new immigrants, especially from Hong Kong.”\\n\\nLo said he helped around 36 families emigrate to Canada in the past 12 months, each bringing C$1.5 million on average.\\n\\n(For graphic on financial transfers to Canada by Hong Kong residents - here)\\n\\nSlideshow ( 4 images )\\n\\nHONG KONG INFLOWS SWELL\\n\\nDespite the cash leaving Hong Kong, it continues to receive inflows on a net basis, with total deposits growing by 5.4% in 2020 to HK$14.5 trillion ($1.9 trillion), according to the Hong Kong Monetary Authority.\\n\\n“As an international financial center (IFC), Hong Kong handles capital inflows and outflows which arise from all sorts of needs on a regular basis,” a central bank spokeswoman told Reuters in response to the questions about outflows to Canada.\\n\\n“This is just normal in keeping with the nature and function of an IFC.”\\n\\nRobust cash flows from mainland China via the Stock Connect initiative and strong demand for some of Hong Kong’s initial public offerings (IPOs) last year have helped capital inflows into Hong Kong, analysts and bankers have said.\\n\\nCanada is a second home for many Hong Kong residents after their families moved to the Vancouver and Toronto areas ahead of the British handover of its former colony to China in 1997. After obtaining Canadian citizenship, many returned to Hong Kong, which is now home to about 300,000 Canadians - one of the largest Canadian communities abroad.\\n\\nBut following the 2020 security law, more Hong Kong residents want to make their home in Canada, which took steps here late last year to make it easier for them to obtain work permits and permanent residency, according to immigration consultants and lawyers.\\n\\nThe residents cite eroding rights and freedoms, and a better education for their children as reasons for their choice, and many are selling their Hong Kong properties and bringing their money with them, they said.\\n\\nPolitical developments have prompted people to consider what will happen if things decline, and to look at Canada as an option, said Canadian immigration attorney Evelyn Ackah. “Right now, it’s just an option. I don’t see a mass exodus. It’s people looking around, saying ‘can I be somewhere else if I need to?’”\\n\\n(For graphic on Canada visa applications from Hong Kong - here)\\n\\n‘MORE THAN A SPIKE’\\n\\nEven as departures are delayed by travel restrictions and slower immigration processing times, some have already begun moving money into Canadian accounts, according to immigration experts.\\n\\nToronto-based Equitable Bank has seen a “remarkable increase” in balances in existing accounts linked to Hong Kong phone numbers, said Mahima Poddar, group head of personal banking.\\n\\nAverage balances in these accounts were up 30% between June and mid-March, versus a 4% rise in accounts with non-Hong Kong phone numbers.\\n\\nThe country’s large banks either didn’t respond to requests for, or declined to comment on, any influxes from Hong Kong.\\n\\nJean-Francois Harvey, a Canadian lawyer based in Hong Kong who specializes in immigration for high-net-worth individuals, has seen a five-fold increase in clients seeking to move to Canada since mid-2020. His clients have transferred at least C$1 million and, more commonly, between C$5 million and C$10 million in the last 12 months.\\n\\n“There’s been an incredible increase in demand especially for Canada in Hong Kong, so much that in the middle of COVID-19, I had to double the team and the size of the office in Hong Kong,” said Harvey, worldwide managing partner for Harvey Law Group.\\n\\n“This is more than a spike. This is a wave.”\\n\\nHong Kong-based attorney Clifford Ng, who himself immigrated to Canada in 1975 and returned to Hong Kong in 1995, said he has seen a four-fold increase in inquiries about the tax implications of moving to Canada.\\n\\nCanada is not the only destination expected to see inflows from Hong Kong as residents look to leave, though.\\n\\nBritain’s government expects that as many as 321,600 Hong Kong residents will migrate there over the next five years, with almost half of those in 2021. Based on this, Bank of America said in January it expects emigration-related outflows to reach HK$280 billion ($36.1 billion) this year.\\n\\nRACE FOR REAL ESTATE\\n\\nSome of the money coming into Canada is likely to flow into real estate, property consultants said.\\n\\nIn the first 10 weeks of 2021, Hong Kong hosted nearly a third more exhibitions of new-build properties by Canadian developers than in the same period in 2019, according to data from Eli McGeever, vice president of international property at Soho App.\\n\\nExhibitions in 2020 were affected by Hong Kong’s first wave of COVID-19 lockdowns.\\n\\nAlisha Ma, founder of immigration consultancy Halcyon Counsel, said Hong Kong families are looking at properties in Toronto and Vancouver, but waiting until they obtain permanent residency to avoid foreign buyers’ taxes.\\n\\nKeelan Chapman, founder of the Canadian Real Estate Investment Centre (HK), said he has seen a noticeable increase in buyers looking for larger properties in good school areas for eventual self-use, rather than solely for investment.\\n\\nHe said many of his clients, most of whom are Hong Kong residents with Canadian passports, have accelerated timelines for returning to Canada to around five years on average, from around eight years previously.\\n\\n“There’s no rush to move back to Canada tomorrow,” he said. “It’s more of a long picture view.”\\n\\n($1 = 1.2546 Canadian dollars; $1 = 7.7669 Hong Kong dollars)'"
      ]
     },
     "execution_count": 8,
     "metadata": {},
     "output_type": "execute_result"
    }
   ],
   "source": [
    "# 記事の全文の表示: article.text\n",
    "article.text"
   ]
  },
  {
   "cell_type": "code",
   "execution_count": 9,
   "metadata": {},
   "outputs": [
    {
     "data": {
      "text/plain": [
       "'Canada calling? Hong Kong residents shift billions abroad after clampdown'"
      ]
     },
     "execution_count": 9,
     "metadata": {},
     "output_type": "execute_result"
    }
   ],
   "source": [
    "# 記事のタイトルの表示: .title\n",
    "article.title"
   ]
  },
  {
   "cell_type": "markdown",
   "metadata": {},
   "source": [
    "# 自然言語処理による要約の取得"
   ]
  },
  {
   "cell_type": "code",
   "execution_count": 10,
   "metadata": {},
   "outputs": [
    {
     "name": "stderr",
     "output_type": "stream",
     "text": [
      "[nltk_data] Downloading package punkt to /Users/HashTak/nltk_data...\n",
      "[nltk_data]   Package punkt is already up-to-date!\n"
     ]
    },
    {
     "data": {
      "text/plain": [
       "True"
      ]
     },
     "execution_count": 10,
     "metadata": {},
     "output_type": "execute_result"
    }
   ],
   "source": [
    "# 自然言語処理ライブラリのインポート\n",
    "import nltk\n",
    "nltk.download('punkt')\n",
    "# Trueが表示されれば完了"
   ]
  },
  {
   "cell_type": "code",
   "execution_count": 11,
   "metadata": {},
   "outputs": [],
   "source": [
    "# 自然言語処理の実行: article.nlp()\n",
    "article.nlp()"
   ]
  },
  {
   "cell_type": "code",
   "execution_count": 12,
   "metadata": {},
   "outputs": [
    {
     "data": {
      "text/plain": [
       "['inflows',\n",
       " 'billions',\n",
       " 'shift',\n",
       " 'seen',\n",
       " 'abroad',\n",
       " 'calling',\n",
       " 'canadian',\n",
       " 'kong',\n",
       " 'clampdown',\n",
       " 'canada',\n",
       " 'outflows',\n",
       " 'immigration',\n",
       " 'residents',\n",
       " 'hong',\n",
       " 'increase']"
      ]
     },
     "execution_count": 12,
     "metadata": {},
     "output_type": "execute_result"
    }
   ],
   "source": [
    "# nlp()を実行すると、keywordsとsummaryが実行できるようになる\n",
    "# 記事の中から頻度によって重要なキーワードを割り出し、取得して表示する: .keywords\n",
    "article.keywords"
   ]
  },
  {
   "cell_type": "code",
   "execution_count": 13,
   "metadata": {},
   "outputs": [
    {
     "data": {
      "text/plain": [
       "'Britain and Australia are expected to be other favored destinations for Hong Kong residents.\\n(For graphic on financial transfers to Canada by Hong Kong residents - here)Slideshow ( 4 images )HONG KONG INFLOWS SWELLDespite the cash leaving Hong Kong, it continues to receive inflows on a net basis, with total deposits growing by 5.4% in 2020 to HK$14.5 trillion ($1.9 trillion), according to the Hong Kong Monetary Authority.\\nThe country’s large banks either didn’t respond to requests for, or declined to comment on, any influxes from Hong Kong.\\nCanada is not the only destination expected to see inflows from Hong Kong as residents look to leave, though.\\nBritain’s government expects that as many as 321,600 Hong Kong residents will migrate there over the next five years, with almost half of those in 2021.'"
      ]
     },
     "execution_count": 13,
     "metadata": {},
     "output_type": "execute_result"
    }
   ],
   "source": [
    "# 記事の要約を表示: article.summary\n",
    "article.summary"
   ]
  },
  {
   "cell_type": "code",
   "execution_count": 14,
   "metadata": {},
   "outputs": [
    {
     "data": {
      "text/plain": [
       "'Britain and Australia are expected to be other favored destinations for Hong Kong residents.(For graphic on financial transfers to Canada by Hong Kong residents - here)Slideshow ( 4 images )HONG KONG INFLOWS SWELLDespite the cash leaving Hong Kong, it continues to receive inflows on a net basis, with total deposits growing by 5.4% in 2020 to HK$14.5 trillion ($1.9 trillion), according to the Hong Kong Monetary Authority.The country’s large banks either didn’t respond to requests for, or declined to comment on, any influxes from Hong Kong.Canada is not the only destination expected to see inflows from Hong Kong as residents look to leave, though.Britain’s government expects that as many as 321,600 Hong Kong residents will migrate there over the next five years, with almost half of those in 2021.'"
      ]
     },
     "execution_count": 14,
     "metadata": {},
     "output_type": "execute_result"
    }
   ],
   "source": [
    "# 要約文から改行文字を置き換え: .replace('置き換え前', '置き換え後')\n",
    "article.summary.replace('\\n','')"
   ]
  },
  {
   "cell_type": "code",
   "execution_count": null,
   "metadata": {},
   "outputs": [],
   "source": []
  }
 ],
 "metadata": {
  "kernelspec": {
   "display_name": "Python 3",
   "language": "python",
   "name": "python3"
  },
  "language_info": {
   "codemirror_mode": {
    "name": "ipython",
    "version": 3
   },
   "file_extension": ".py",
   "mimetype": "text/x-python",
   "name": "python",
   "nbconvert_exporter": "python",
   "pygments_lexer": "ipython3",
   "version": "3.7.6"
  }
 },
 "nbformat": 4,
 "nbformat_minor": 4
}
