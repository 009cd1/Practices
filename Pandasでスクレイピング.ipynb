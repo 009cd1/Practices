{
 "cells": [
  {
   "cell_type": "markdown",
   "metadata": {},
   "source": [
    "# read_htmlによるデータの取得と表示"
   ]
  },
  {
   "cell_type": "code",
   "execution_count": 1,
   "metadata": {},
   "outputs": [],
   "source": [
    "import pandas as pd"
   ]
  },
  {
   "cell_type": "code",
   "execution_count": 2,
   "metadata": {},
   "outputs": [],
   "source": [
    "# YahooファイナンスからAppleの株価を取得\n",
    "URL = 'https://finance.yahoo.com/quote/AAPL/history?p=AAPL'"
   ]
  },
  {
   "cell_type": "code",
   "execution_count": 3,
   "metadata": {},
   "outputs": [],
   "source": [
    "# 変数dataにデータフレームのリストを格納する: pd.read_html(URL, header=0:先頭行を含めるか含めないか)\n",
    "data = pd.read_html(URL, header=0)"
   ]
  },
  {
   "cell_type": "code",
   "execution_count": 4,
   "metadata": {},
   "outputs": [
    {
     "data": {
      "text/html": [
       "<div>\n",
       "<style scoped>\n",
       "    .dataframe tbody tr th:only-of-type {\n",
       "        vertical-align: middle;\n",
       "    }\n",
       "\n",
       "    .dataframe tbody tr th {\n",
       "        vertical-align: top;\n",
       "    }\n",
       "\n",
       "    .dataframe thead th {\n",
       "        text-align: right;\n",
       "    }\n",
       "</style>\n",
       "<table border=\"1\" class=\"dataframe\">\n",
       "  <thead>\n",
       "    <tr style=\"text-align: right;\">\n",
       "      <th></th>\n",
       "      <th>Date</th>\n",
       "      <th>Open</th>\n",
       "      <th>High</th>\n",
       "      <th>Low</th>\n",
       "      <th>Close*</th>\n",
       "      <th>Adj Close**</th>\n",
       "      <th>Volume</th>\n",
       "    </tr>\n",
       "  </thead>\n",
       "  <tbody>\n",
       "    <tr>\n",
       "      <th>0</th>\n",
       "      <td>Mar 31, 2021</td>\n",
       "      <td>121.65</td>\n",
       "      <td>123.52</td>\n",
       "      <td>121.15</td>\n",
       "      <td>122.15</td>\n",
       "      <td>122.15</td>\n",
       "      <td>118162900</td>\n",
       "    </tr>\n",
       "    <tr>\n",
       "      <th>1</th>\n",
       "      <td>Mar 30, 2021</td>\n",
       "      <td>120.11</td>\n",
       "      <td>120.40</td>\n",
       "      <td>118.86</td>\n",
       "      <td>119.90</td>\n",
       "      <td>119.90</td>\n",
       "      <td>85671900</td>\n",
       "    </tr>\n",
       "    <tr>\n",
       "      <th>2</th>\n",
       "      <td>Mar 29, 2021</td>\n",
       "      <td>121.65</td>\n",
       "      <td>122.58</td>\n",
       "      <td>120.73</td>\n",
       "      <td>121.39</td>\n",
       "      <td>121.39</td>\n",
       "      <td>80819200</td>\n",
       "    </tr>\n",
       "    <tr>\n",
       "      <th>3</th>\n",
       "      <td>Mar 26, 2021</td>\n",
       "      <td>120.35</td>\n",
       "      <td>121.48</td>\n",
       "      <td>118.92</td>\n",
       "      <td>121.21</td>\n",
       "      <td>121.21</td>\n",
       "      <td>93958900</td>\n",
       "    </tr>\n",
       "    <tr>\n",
       "      <th>4</th>\n",
       "      <td>Mar 25, 2021</td>\n",
       "      <td>119.54</td>\n",
       "      <td>121.66</td>\n",
       "      <td>119.00</td>\n",
       "      <td>120.59</td>\n",
       "      <td>120.59</td>\n",
       "      <td>98844700</td>\n",
       "    </tr>\n",
       "  </tbody>\n",
       "</table>\n",
       "</div>"
      ],
      "text/plain": [
       "           Date    Open    High     Low  Close* Adj Close**     Volume\n",
       "0  Mar 31, 2021  121.65  123.52  121.15  122.15      122.15  118162900\n",
       "1  Mar 30, 2021  120.11  120.40  118.86  119.90      119.90   85671900\n",
       "2  Mar 29, 2021  121.65  122.58  120.73  121.39      121.39   80819200\n",
       "3  Mar 26, 2021  120.35  121.48  118.92  121.21      121.21   93958900\n",
       "4  Mar 25, 2021  119.54  121.66  119.00  120.59      120.59   98844700"
      ]
     },
     "execution_count": 4,
     "metadata": {},
     "output_type": "execute_result"
    }
   ],
   "source": [
    "# 結果はデータフレームのリスト形式で取得される\n",
    "# 複数のテーブルがある場合、1番目のテーブルはdata[0]\n",
    "data[0].head() "
   ]
  },
  {
   "cell_type": "code",
   "execution_count": 5,
   "metadata": {},
   "outputs": [
    {
     "data": {
      "text/html": [
       "<div>\n",
       "<style scoped>\n",
       "    .dataframe tbody tr th:only-of-type {\n",
       "        vertical-align: middle;\n",
       "    }\n",
       "\n",
       "    .dataframe tbody tr th {\n",
       "        vertical-align: top;\n",
       "    }\n",
       "\n",
       "    .dataframe thead th {\n",
       "        text-align: right;\n",
       "    }\n",
       "</style>\n",
       "<table border=\"1\" class=\"dataframe\">\n",
       "  <thead>\n",
       "    <tr style=\"text-align: right;\">\n",
       "      <th></th>\n",
       "      <th>Date</th>\n",
       "      <th>Open</th>\n",
       "      <th>High</th>\n",
       "      <th>Low</th>\n",
       "      <th>Close*</th>\n",
       "      <th>Adj Close**</th>\n",
       "      <th>Volume</th>\n",
       "    </tr>\n",
       "  </thead>\n",
       "  <tbody>\n",
       "    <tr>\n",
       "      <th>96</th>\n",
       "      <td>Nov 11, 2020</td>\n",
       "      <td>117.19</td>\n",
       "      <td>119.63</td>\n",
       "      <td>116.44</td>\n",
       "      <td>119.49</td>\n",
       "      <td>119.31</td>\n",
       "      <td>112295000</td>\n",
       "    </tr>\n",
       "    <tr>\n",
       "      <th>97</th>\n",
       "      <td>Nov 10, 2020</td>\n",
       "      <td>115.55</td>\n",
       "      <td>117.59</td>\n",
       "      <td>114.13</td>\n",
       "      <td>115.97</td>\n",
       "      <td>115.80</td>\n",
       "      <td>138023400</td>\n",
       "    </tr>\n",
       "    <tr>\n",
       "      <th>98</th>\n",
       "      <td>Nov 09, 2020</td>\n",
       "      <td>120.50</td>\n",
       "      <td>121.99</td>\n",
       "      <td>116.05</td>\n",
       "      <td>116.32</td>\n",
       "      <td>116.15</td>\n",
       "      <td>154515300</td>\n",
       "    </tr>\n",
       "    <tr>\n",
       "      <th>99</th>\n",
       "      <td>Nov 06, 2020</td>\n",
       "      <td>118.32</td>\n",
       "      <td>119.20</td>\n",
       "      <td>116.13</td>\n",
       "      <td>118.69</td>\n",
       "      <td>118.51</td>\n",
       "      <td>114457900</td>\n",
       "    </tr>\n",
       "    <tr>\n",
       "      <th>100</th>\n",
       "      <td>*Close price adjusted for splits.**Adjusted cl...</td>\n",
       "      <td>*Close price adjusted for splits.**Adjusted cl...</td>\n",
       "      <td>*Close price adjusted for splits.**Adjusted cl...</td>\n",
       "      <td>*Close price adjusted for splits.**Adjusted cl...</td>\n",
       "      <td>*Close price adjusted for splits.**Adjusted cl...</td>\n",
       "      <td>*Close price adjusted for splits.**Adjusted cl...</td>\n",
       "      <td>*Close price adjusted for splits.**Adjusted cl...</td>\n",
       "    </tr>\n",
       "  </tbody>\n",
       "</table>\n",
       "</div>"
      ],
      "text/plain": [
       "                                                  Date  \\\n",
       "96                                        Nov 11, 2020   \n",
       "97                                        Nov 10, 2020   \n",
       "98                                        Nov 09, 2020   \n",
       "99                                        Nov 06, 2020   \n",
       "100  *Close price adjusted for splits.**Adjusted cl...   \n",
       "\n",
       "                                                  Open  \\\n",
       "96                                              117.19   \n",
       "97                                              115.55   \n",
       "98                                              120.50   \n",
       "99                                              118.32   \n",
       "100  *Close price adjusted for splits.**Adjusted cl...   \n",
       "\n",
       "                                                  High  \\\n",
       "96                                              119.63   \n",
       "97                                              117.59   \n",
       "98                                              121.99   \n",
       "99                                              119.20   \n",
       "100  *Close price adjusted for splits.**Adjusted cl...   \n",
       "\n",
       "                                                   Low  \\\n",
       "96                                              116.44   \n",
       "97                                              114.13   \n",
       "98                                              116.05   \n",
       "99                                              116.13   \n",
       "100  *Close price adjusted for splits.**Adjusted cl...   \n",
       "\n",
       "                                                Close*  \\\n",
       "96                                              119.49   \n",
       "97                                              115.97   \n",
       "98                                              116.32   \n",
       "99                                              118.69   \n",
       "100  *Close price adjusted for splits.**Adjusted cl...   \n",
       "\n",
       "                                           Adj Close**  \\\n",
       "96                                              119.31   \n",
       "97                                              115.80   \n",
       "98                                              116.15   \n",
       "99                                              118.51   \n",
       "100  *Close price adjusted for splits.**Adjusted cl...   \n",
       "\n",
       "                                                Volume  \n",
       "96                                           112295000  \n",
       "97                                           138023400  \n",
       "98                                           154515300  \n",
       "99                                           114457900  \n",
       "100  *Close price adjusted for splits.**Adjusted cl...  "
      ]
     },
     "execution_count": 5,
     "metadata": {},
     "output_type": "execute_result"
    }
   ],
   "source": [
    "data[0].tail()"
   ]
  },
  {
   "cell_type": "markdown",
   "metadata": {},
   "source": [
    "# 取得データの変換1（数値）"
   ]
  },
  {
   "cell_type": "markdown",
   "metadata": {},
   "source": [
    "## 取得データの問題点\n",
    "・数値が入るべき列に文字列 'Close price adjusted for splits...'が入っている行がある。  \n",
    "・列Dateに格納されている日付が、Apr 24, 2020 のように文字列になっていて、時系列にグラフを表示できない。"
   ]
  },
  {
   "cell_type": "code",
   "execution_count": 6,
   "metadata": {},
   "outputs": [],
   "source": [
    "# 文字列を数値に変換する: \n",
    "# pd.to_numeric(arg;変換したいlistなど, errors='raise';例外を発生させる, 'coerce';NaNを設定, 'ignore';数値変換を行わない)\n",
    "data[0]['Adj Close**'] = pd.to_numeric(data[0]['Adj Close**'], errors='coerce')"
   ]
  },
  {
   "cell_type": "code",
   "execution_count": 7,
   "metadata": {},
   "outputs": [
    {
     "data": {
      "text/html": [
       "<div>\n",
       "<style scoped>\n",
       "    .dataframe tbody tr th:only-of-type {\n",
       "        vertical-align: middle;\n",
       "    }\n",
       "\n",
       "    .dataframe tbody tr th {\n",
       "        vertical-align: top;\n",
       "    }\n",
       "\n",
       "    .dataframe thead th {\n",
       "        text-align: right;\n",
       "    }\n",
       "</style>\n",
       "<table border=\"1\" class=\"dataframe\">\n",
       "  <thead>\n",
       "    <tr style=\"text-align: right;\">\n",
       "      <th></th>\n",
       "      <th>Date</th>\n",
       "      <th>Open</th>\n",
       "      <th>High</th>\n",
       "      <th>Low</th>\n",
       "      <th>Close*</th>\n",
       "      <th>Adj Close**</th>\n",
       "      <th>Volume</th>\n",
       "    </tr>\n",
       "  </thead>\n",
       "  <tbody>\n",
       "    <tr>\n",
       "      <th>96</th>\n",
       "      <td>Nov 11, 2020</td>\n",
       "      <td>117.19</td>\n",
       "      <td>119.63</td>\n",
       "      <td>116.44</td>\n",
       "      <td>119.49</td>\n",
       "      <td>119.31</td>\n",
       "      <td>112295000</td>\n",
       "    </tr>\n",
       "    <tr>\n",
       "      <th>97</th>\n",
       "      <td>Nov 10, 2020</td>\n",
       "      <td>115.55</td>\n",
       "      <td>117.59</td>\n",
       "      <td>114.13</td>\n",
       "      <td>115.97</td>\n",
       "      <td>115.80</td>\n",
       "      <td>138023400</td>\n",
       "    </tr>\n",
       "    <tr>\n",
       "      <th>98</th>\n",
       "      <td>Nov 09, 2020</td>\n",
       "      <td>120.50</td>\n",
       "      <td>121.99</td>\n",
       "      <td>116.05</td>\n",
       "      <td>116.32</td>\n",
       "      <td>116.15</td>\n",
       "      <td>154515300</td>\n",
       "    </tr>\n",
       "    <tr>\n",
       "      <th>99</th>\n",
       "      <td>Nov 06, 2020</td>\n",
       "      <td>118.32</td>\n",
       "      <td>119.20</td>\n",
       "      <td>116.13</td>\n",
       "      <td>118.69</td>\n",
       "      <td>118.51</td>\n",
       "      <td>114457900</td>\n",
       "    </tr>\n",
       "    <tr>\n",
       "      <th>100</th>\n",
       "      <td>*Close price adjusted for splits.**Adjusted cl...</td>\n",
       "      <td>*Close price adjusted for splits.**Adjusted cl...</td>\n",
       "      <td>*Close price adjusted for splits.**Adjusted cl...</td>\n",
       "      <td>*Close price adjusted for splits.**Adjusted cl...</td>\n",
       "      <td>*Close price adjusted for splits.**Adjusted cl...</td>\n",
       "      <td>NaN</td>\n",
       "      <td>*Close price adjusted for splits.**Adjusted cl...</td>\n",
       "    </tr>\n",
       "  </tbody>\n",
       "</table>\n",
       "</div>"
      ],
      "text/plain": [
       "                                                  Date  \\\n",
       "96                                        Nov 11, 2020   \n",
       "97                                        Nov 10, 2020   \n",
       "98                                        Nov 09, 2020   \n",
       "99                                        Nov 06, 2020   \n",
       "100  *Close price adjusted for splits.**Adjusted cl...   \n",
       "\n",
       "                                                  Open  \\\n",
       "96                                              117.19   \n",
       "97                                              115.55   \n",
       "98                                              120.50   \n",
       "99                                              118.32   \n",
       "100  *Close price adjusted for splits.**Adjusted cl...   \n",
       "\n",
       "                                                  High  \\\n",
       "96                                              119.63   \n",
       "97                                              117.59   \n",
       "98                                              121.99   \n",
       "99                                              119.20   \n",
       "100  *Close price adjusted for splits.**Adjusted cl...   \n",
       "\n",
       "                                                   Low  \\\n",
       "96                                              116.44   \n",
       "97                                              114.13   \n",
       "98                                              116.05   \n",
       "99                                              116.13   \n",
       "100  *Close price adjusted for splits.**Adjusted cl...   \n",
       "\n",
       "                                                Close*  Adj Close**  \\\n",
       "96                                              119.49       119.31   \n",
       "97                                              115.97       115.80   \n",
       "98                                              116.32       116.15   \n",
       "99                                              118.69       118.51   \n",
       "100  *Close price adjusted for splits.**Adjusted cl...          NaN   \n",
       "\n",
       "                                                Volume  \n",
       "96                                           112295000  \n",
       "97                                           138023400  \n",
       "98                                           154515300  \n",
       "99                                           114457900  \n",
       "100  *Close price adjusted for splits.**Adjusted cl...  "
      ]
     },
     "execution_count": 7,
     "metadata": {},
     "output_type": "execute_result"
    }
   ],
   "source": [
    "data[0].tail()"
   ]
  },
  {
   "cell_type": "code",
   "execution_count": 8,
   "metadata": {},
   "outputs": [],
   "source": [
    "# NaNが含まれている行を削除する: \n",
    "# DataFrame.dropna(axis=0;欠損値を含む行を削除, =1;列を削除, inplace=True;実行結果を保存, =False;保存しない)\n",
    "data[0].dropna(inplace=True)"
   ]
  },
  {
   "cell_type": "code",
   "execution_count": 9,
   "metadata": {
    "scrolled": true
   },
   "outputs": [
    {
     "data": {
      "text/html": [
       "<div>\n",
       "<style scoped>\n",
       "    .dataframe tbody tr th:only-of-type {\n",
       "        vertical-align: middle;\n",
       "    }\n",
       "\n",
       "    .dataframe tbody tr th {\n",
       "        vertical-align: top;\n",
       "    }\n",
       "\n",
       "    .dataframe thead th {\n",
       "        text-align: right;\n",
       "    }\n",
       "</style>\n",
       "<table border=\"1\" class=\"dataframe\">\n",
       "  <thead>\n",
       "    <tr style=\"text-align: right;\">\n",
       "      <th></th>\n",
       "      <th>Date</th>\n",
       "      <th>Open</th>\n",
       "      <th>High</th>\n",
       "      <th>Low</th>\n",
       "      <th>Close*</th>\n",
       "      <th>Adj Close**</th>\n",
       "      <th>Volume</th>\n",
       "    </tr>\n",
       "  </thead>\n",
       "  <tbody>\n",
       "    <tr>\n",
       "      <th>95</th>\n",
       "      <td>Nov 12, 2020</td>\n",
       "      <td>119.62</td>\n",
       "      <td>120.53</td>\n",
       "      <td>118.57</td>\n",
       "      <td>119.21</td>\n",
       "      <td>119.03</td>\n",
       "      <td>103162300</td>\n",
       "    </tr>\n",
       "    <tr>\n",
       "      <th>96</th>\n",
       "      <td>Nov 11, 2020</td>\n",
       "      <td>117.19</td>\n",
       "      <td>119.63</td>\n",
       "      <td>116.44</td>\n",
       "      <td>119.49</td>\n",
       "      <td>119.31</td>\n",
       "      <td>112295000</td>\n",
       "    </tr>\n",
       "    <tr>\n",
       "      <th>97</th>\n",
       "      <td>Nov 10, 2020</td>\n",
       "      <td>115.55</td>\n",
       "      <td>117.59</td>\n",
       "      <td>114.13</td>\n",
       "      <td>115.97</td>\n",
       "      <td>115.80</td>\n",
       "      <td>138023400</td>\n",
       "    </tr>\n",
       "    <tr>\n",
       "      <th>98</th>\n",
       "      <td>Nov 09, 2020</td>\n",
       "      <td>120.50</td>\n",
       "      <td>121.99</td>\n",
       "      <td>116.05</td>\n",
       "      <td>116.32</td>\n",
       "      <td>116.15</td>\n",
       "      <td>154515300</td>\n",
       "    </tr>\n",
       "    <tr>\n",
       "      <th>99</th>\n",
       "      <td>Nov 06, 2020</td>\n",
       "      <td>118.32</td>\n",
       "      <td>119.20</td>\n",
       "      <td>116.13</td>\n",
       "      <td>118.69</td>\n",
       "      <td>118.51</td>\n",
       "      <td>114457900</td>\n",
       "    </tr>\n",
       "  </tbody>\n",
       "</table>\n",
       "</div>"
      ],
      "text/plain": [
       "            Date    Open    High     Low  Close*  Adj Close**     Volume\n",
       "95  Nov 12, 2020  119.62  120.53  118.57  119.21       119.03  103162300\n",
       "96  Nov 11, 2020  117.19  119.63  116.44  119.49       119.31  112295000\n",
       "97  Nov 10, 2020  115.55  117.59  114.13  115.97       115.80  138023400\n",
       "98  Nov 09, 2020  120.50  121.99  116.05  116.32       116.15  154515300\n",
       "99  Nov 06, 2020  118.32  119.20  116.13  118.69       118.51  114457900"
      ]
     },
     "execution_count": 9,
     "metadata": {},
     "output_type": "execute_result"
    }
   ],
   "source": [
    "data[0].tail()"
   ]
  },
  {
   "cell_type": "markdown",
   "metadata": {},
   "source": [
    "# 取得データの変換2（日付）"
   ]
  },
  {
   "cell_type": "markdown",
   "metadata": {},
   "source": [
    "## 取得データの問題点\n",
    "・数値が入るべき列に文字列 'Close price adjusted for splits...'が入っている行がある。  \n",
    "・列Dateに格納されている日付が、Apr 24, 2020 のように文字列になっていて、時系列にグラフを表示できない。"
   ]
  },
  {
   "cell_type": "code",
   "execution_count": 10,
   "metadata": {},
   "outputs": [],
   "source": [
    "from datetime import datetime as dt"
   ]
  },
  {
   "cell_type": "code",
   "execution_count": 11,
   "metadata": {
    "scrolled": false
   },
   "outputs": [],
   "source": [
    "# 文字列を日付型に変換する:\n",
    "# datetime.strptime(文字列, 日付の書式%b;月名の短縮形Aprなど, %d;日にちを0埋めした10進表記, %Y;西暦4桁の10進表記)\n",
    "data[0]['Date2'] = [dt.strptime(i, '%b %d, %Y') for i in data[0]['Date']]\n",
    "# ↑リスト内包表記: for分から取得した要素をリストに格納する\n",
    "# [処理 for 変数 in リスト]: リストから取得したデータを、変数に入れ、処理を行って、渡すを繰り返す"
   ]
  },
  {
   "cell_type": "code",
   "execution_count": 12,
   "metadata": {},
   "outputs": [
    {
     "data": {
      "text/plain": [
       "0   2021-03-31\n",
       "1   2021-03-30\n",
       "2   2021-03-29\n",
       "3   2021-03-26\n",
       "4   2021-03-25\n",
       "Name: Date2, dtype: datetime64[ns]"
      ]
     },
     "execution_count": 12,
     "metadata": {},
     "output_type": "execute_result"
    }
   ],
   "source": [
    "data[0]['Date2'].head()"
   ]
  },
  {
   "cell_type": "code",
   "execution_count": 13,
   "metadata": {},
   "outputs": [
    {
     "data": {
      "text/html": [
       "<div>\n",
       "<style scoped>\n",
       "    .dataframe tbody tr th:only-of-type {\n",
       "        vertical-align: middle;\n",
       "    }\n",
       "\n",
       "    .dataframe tbody tr th {\n",
       "        vertical-align: top;\n",
       "    }\n",
       "\n",
       "    .dataframe thead th {\n",
       "        text-align: right;\n",
       "    }\n",
       "</style>\n",
       "<table border=\"1\" class=\"dataframe\">\n",
       "  <thead>\n",
       "    <tr style=\"text-align: right;\">\n",
       "      <th></th>\n",
       "      <th>Date</th>\n",
       "      <th>Open</th>\n",
       "      <th>High</th>\n",
       "      <th>Low</th>\n",
       "      <th>Close*</th>\n",
       "      <th>Adj Close**</th>\n",
       "      <th>Volume</th>\n",
       "      <th>Date2</th>\n",
       "    </tr>\n",
       "  </thead>\n",
       "  <tbody>\n",
       "    <tr>\n",
       "      <th>0</th>\n",
       "      <td>Mar 31, 2021</td>\n",
       "      <td>121.65</td>\n",
       "      <td>123.52</td>\n",
       "      <td>121.15</td>\n",
       "      <td>122.15</td>\n",
       "      <td>122.15</td>\n",
       "      <td>118162900</td>\n",
       "      <td>2021-03-31</td>\n",
       "    </tr>\n",
       "    <tr>\n",
       "      <th>1</th>\n",
       "      <td>Mar 30, 2021</td>\n",
       "      <td>120.11</td>\n",
       "      <td>120.40</td>\n",
       "      <td>118.86</td>\n",
       "      <td>119.90</td>\n",
       "      <td>119.90</td>\n",
       "      <td>85671900</td>\n",
       "      <td>2021-03-30</td>\n",
       "    </tr>\n",
       "    <tr>\n",
       "      <th>2</th>\n",
       "      <td>Mar 29, 2021</td>\n",
       "      <td>121.65</td>\n",
       "      <td>122.58</td>\n",
       "      <td>120.73</td>\n",
       "      <td>121.39</td>\n",
       "      <td>121.39</td>\n",
       "      <td>80819200</td>\n",
       "      <td>2021-03-29</td>\n",
       "    </tr>\n",
       "    <tr>\n",
       "      <th>3</th>\n",
       "      <td>Mar 26, 2021</td>\n",
       "      <td>120.35</td>\n",
       "      <td>121.48</td>\n",
       "      <td>118.92</td>\n",
       "      <td>121.21</td>\n",
       "      <td>121.21</td>\n",
       "      <td>93958900</td>\n",
       "      <td>2021-03-26</td>\n",
       "    </tr>\n",
       "    <tr>\n",
       "      <th>4</th>\n",
       "      <td>Mar 25, 2021</td>\n",
       "      <td>119.54</td>\n",
       "      <td>121.66</td>\n",
       "      <td>119.00</td>\n",
       "      <td>120.59</td>\n",
       "      <td>120.59</td>\n",
       "      <td>98844700</td>\n",
       "      <td>2021-03-25</td>\n",
       "    </tr>\n",
       "  </tbody>\n",
       "</table>\n",
       "</div>"
      ],
      "text/plain": [
       "           Date    Open    High     Low  Close*  Adj Close**     Volume  \\\n",
       "0  Mar 31, 2021  121.65  123.52  121.15  122.15       122.15  118162900   \n",
       "1  Mar 30, 2021  120.11  120.40  118.86  119.90       119.90   85671900   \n",
       "2  Mar 29, 2021  121.65  122.58  120.73  121.39       121.39   80819200   \n",
       "3  Mar 26, 2021  120.35  121.48  118.92  121.21       121.21   93958900   \n",
       "4  Mar 25, 2021  119.54  121.66  119.00  120.59       120.59   98844700   \n",
       "\n",
       "       Date2  \n",
       "0 2021-03-31  \n",
       "1 2021-03-30  \n",
       "2 2021-03-29  \n",
       "3 2021-03-26  \n",
       "4 2021-03-25  "
      ]
     },
     "execution_count": 13,
     "metadata": {},
     "output_type": "execute_result"
    }
   ],
   "source": [
    "data[0].head()"
   ]
  },
  {
   "cell_type": "markdown",
   "metadata": {},
   "source": [
    "# 株価グラフの描画"
   ]
  },
  {
   "cell_type": "code",
   "execution_count": 14,
   "metadata": {},
   "outputs": [],
   "source": [
    "# DataFrameにインデックスを設定する: DataFrame.set_index(列名, 任意の引数inplace=True;実行結果を保存する, =False;保存しない)\n",
    "data[0].set_index('Date2', inplace=True)"
   ]
  },
  {
   "cell_type": "code",
   "execution_count": 15,
   "metadata": {},
   "outputs": [
    {
     "data": {
      "text/html": [
       "<div>\n",
       "<style scoped>\n",
       "    .dataframe tbody tr th:only-of-type {\n",
       "        vertical-align: middle;\n",
       "    }\n",
       "\n",
       "    .dataframe tbody tr th {\n",
       "        vertical-align: top;\n",
       "    }\n",
       "\n",
       "    .dataframe thead th {\n",
       "        text-align: right;\n",
       "    }\n",
       "</style>\n",
       "<table border=\"1\" class=\"dataframe\">\n",
       "  <thead>\n",
       "    <tr style=\"text-align: right;\">\n",
       "      <th></th>\n",
       "      <th>Date</th>\n",
       "      <th>Open</th>\n",
       "      <th>High</th>\n",
       "      <th>Low</th>\n",
       "      <th>Close*</th>\n",
       "      <th>Adj Close**</th>\n",
       "      <th>Volume</th>\n",
       "    </tr>\n",
       "    <tr>\n",
       "      <th>Date2</th>\n",
       "      <th></th>\n",
       "      <th></th>\n",
       "      <th></th>\n",
       "      <th></th>\n",
       "      <th></th>\n",
       "      <th></th>\n",
       "      <th></th>\n",
       "    </tr>\n",
       "  </thead>\n",
       "  <tbody>\n",
       "    <tr>\n",
       "      <th>2021-03-31</th>\n",
       "      <td>Mar 31, 2021</td>\n",
       "      <td>121.65</td>\n",
       "      <td>123.52</td>\n",
       "      <td>121.15</td>\n",
       "      <td>122.15</td>\n",
       "      <td>122.15</td>\n",
       "      <td>118162900</td>\n",
       "    </tr>\n",
       "    <tr>\n",
       "      <th>2021-03-30</th>\n",
       "      <td>Mar 30, 2021</td>\n",
       "      <td>120.11</td>\n",
       "      <td>120.40</td>\n",
       "      <td>118.86</td>\n",
       "      <td>119.90</td>\n",
       "      <td>119.90</td>\n",
       "      <td>85671900</td>\n",
       "    </tr>\n",
       "    <tr>\n",
       "      <th>2021-03-29</th>\n",
       "      <td>Mar 29, 2021</td>\n",
       "      <td>121.65</td>\n",
       "      <td>122.58</td>\n",
       "      <td>120.73</td>\n",
       "      <td>121.39</td>\n",
       "      <td>121.39</td>\n",
       "      <td>80819200</td>\n",
       "    </tr>\n",
       "    <tr>\n",
       "      <th>2021-03-26</th>\n",
       "      <td>Mar 26, 2021</td>\n",
       "      <td>120.35</td>\n",
       "      <td>121.48</td>\n",
       "      <td>118.92</td>\n",
       "      <td>121.21</td>\n",
       "      <td>121.21</td>\n",
       "      <td>93958900</td>\n",
       "    </tr>\n",
       "    <tr>\n",
       "      <th>2021-03-25</th>\n",
       "      <td>Mar 25, 2021</td>\n",
       "      <td>119.54</td>\n",
       "      <td>121.66</td>\n",
       "      <td>119.00</td>\n",
       "      <td>120.59</td>\n",
       "      <td>120.59</td>\n",
       "      <td>98844700</td>\n",
       "    </tr>\n",
       "  </tbody>\n",
       "</table>\n",
       "</div>"
      ],
      "text/plain": [
       "                    Date    Open    High     Low  Close*  Adj Close**  \\\n",
       "Date2                                                                   \n",
       "2021-03-31  Mar 31, 2021  121.65  123.52  121.15  122.15       122.15   \n",
       "2021-03-30  Mar 30, 2021  120.11  120.40  118.86  119.90       119.90   \n",
       "2021-03-29  Mar 29, 2021  121.65  122.58  120.73  121.39       121.39   \n",
       "2021-03-26  Mar 26, 2021  120.35  121.48  118.92  121.21       121.21   \n",
       "2021-03-25  Mar 25, 2021  119.54  121.66  119.00  120.59       120.59   \n",
       "\n",
       "               Volume  \n",
       "Date2                  \n",
       "2021-03-31  118162900  \n",
       "2021-03-30   85671900  \n",
       "2021-03-29   80819200  \n",
       "2021-03-26   93958900  \n",
       "2021-03-25   98844700  "
      ]
     },
     "execution_count": 15,
     "metadata": {},
     "output_type": "execute_result"
    }
   ],
   "source": [
    "data[0].head()"
   ]
  },
  {
   "cell_type": "code",
   "execution_count": 16,
   "metadata": {},
   "outputs": [
    {
     "data": {
      "text/plain": [
       "dtype('float64')"
      ]
     },
     "execution_count": 16,
     "metadata": {},
     "output_type": "execute_result"
    }
   ],
   "source": [
    "# データタイプの確認: DataFrame.dtype\n",
    "data[0]['Adj Close**'].dtype"
   ]
  },
  {
   "cell_type": "code",
   "execution_count": 17,
   "metadata": {
    "scrolled": true
   },
   "outputs": [
    {
     "data": {
      "text/plain": [
       "<matplotlib.axes._subplots.AxesSubplot at 0x7f91e11a7050>"
      ]
     },
     "execution_count": 17,
     "metadata": {},
     "output_type": "execute_result"
    },
    {
     "data": {
      "image/png": "[encoded data removed]",
      "text/plain": [
       "<Figure size 432x288 with 1 Axes>"
      ]
     },
     "metadata": {
      "needs_background": "light"
     },
     "output_type": "display_data"
    }
   ],
   "source": [
    "# DataFrameからグラフを描画する: \n",
    "# DataFrame.plot(任意の引数title='タイトル', grid=True;目盛線表示, kind='line';折れ線グラフ, 'bar';棒グラフ, 'scatter';散布図, 'pie';円グラフ)\n",
    "data[0]['Adj Close**'].plot(title='AAPL Stock Orice', grid=True)"
   ]
  },
  {
   "cell_type": "markdown",
   "metadata": {},
   "source": [
    "# 株価データの保存"
   ]
  },
  {
   "cell_type": "code",
   "execution_count": 18,
   "metadata": {},
   "outputs": [],
   "source": [
    "# DataFrameをcsvファイルに出力: DataFrame.to_csv('保存場所', 'ファイル名')\n",
    "data[0].to_csv('AAPL_Stock.csv')"
   ]
  },
  {
   "cell_type": "code",
   "execution_count": null,
   "metadata": {},
   "outputs": [],
   "source": []
  }
 ],
 "metadata": {
  "kernelspec": {
   "display_name": "Python 3",
   "language": "python",
   "name": "python3"
  },
  "language_info": {
   "codemirror_mode": {
    "name": "ipython",
    "version": 3
   },
   "file_extension": ".py",
   "mimetype": "text/x-python",
   "name": "python",
   "nbconvert_exporter": "python",
   "pygments_lexer": "ipython3",
   "version": "3.7.6"
  }
 },
 "nbformat": 4,
 "nbformat_minor": 4
}
